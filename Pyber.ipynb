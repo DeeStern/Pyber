{
 "cells": [
  {
   "cell_type": "markdown",
   "metadata": {},
   "source": [
    "Devin Stern\n",
    "Homework 5\n",
    "\n",
    "Three observable trends: \n",
    "1)We can see from the scatter plot that the number of rides increases as the population density increases. There are more trips in urban areas than in suburban or rural areas.\n",
    "2) We can also see from the scatter plot that the average fare is higher in rural areas than in more densly populated suburban or urban cities. Length of rides are likely much longer in rural areas, and there are far fewer drivers in rural areas, which could both contribute to higher fare prices. \n",
    "3) About 80% of drivers are in urban areas, but they only account for 62.7% of total fares - this is likely due to the high volume of short rides, which have a lower price point in a big city. "
   ]
  },
  {
   "cell_type": "code",
   "execution_count": 1,
   "metadata": {},
   "outputs": [
    {
     "data": {
      "text/html": [
       "<div>\n",
       "<style scoped>\n",
       "    .dataframe tbody tr th:only-of-type {\n",
       "        vertical-align: middle;\n",
       "    }\n",
       "\n",
       "    .dataframe tbody tr th {\n",
       "        vertical-align: top;\n",
       "    }\n",
       "\n",
       "    .dataframe thead th {\n",
       "        text-align: right;\n",
       "    }\n",
       "</style>\n",
       "<table border=\"1\" class=\"dataframe\">\n",
       "  <thead>\n",
       "    <tr style=\"text-align: right;\">\n",
       "      <th></th>\n",
       "      <th>city</th>\n",
       "      <th>driver_count</th>\n",
       "      <th>type</th>\n",
       "      <th>date</th>\n",
       "      <th>fare</th>\n",
       "      <th>ride_id</th>\n",
       "    </tr>\n",
       "  </thead>\n",
       "  <tbody>\n",
       "    <tr>\n",
       "      <th>0</th>\n",
       "      <td>Richardfort</td>\n",
       "      <td>38</td>\n",
       "      <td>Urban</td>\n",
       "      <td>2018-02-24 08:40:38</td>\n",
       "      <td>13.93</td>\n",
       "      <td>5628545007794</td>\n",
       "    </tr>\n",
       "    <tr>\n",
       "      <th>1</th>\n",
       "      <td>Richardfort</td>\n",
       "      <td>38</td>\n",
       "      <td>Urban</td>\n",
       "      <td>2018-02-13 12:46:07</td>\n",
       "      <td>14.00</td>\n",
       "      <td>910050116494</td>\n",
       "    </tr>\n",
       "    <tr>\n",
       "      <th>2</th>\n",
       "      <td>Richardfort</td>\n",
       "      <td>38</td>\n",
       "      <td>Urban</td>\n",
       "      <td>2018-02-16 13:52:19</td>\n",
       "      <td>17.92</td>\n",
       "      <td>820639054416</td>\n",
       "    </tr>\n",
       "    <tr>\n",
       "      <th>3</th>\n",
       "      <td>Richardfort</td>\n",
       "      <td>38</td>\n",
       "      <td>Urban</td>\n",
       "      <td>2018-02-01 20:18:28</td>\n",
       "      <td>10.26</td>\n",
       "      <td>9554935945413</td>\n",
       "    </tr>\n",
       "    <tr>\n",
       "      <th>4</th>\n",
       "      <td>Richardfort</td>\n",
       "      <td>38</td>\n",
       "      <td>Urban</td>\n",
       "      <td>2018-04-17 02:26:37</td>\n",
       "      <td>23.00</td>\n",
       "      <td>720020655850</td>\n",
       "    </tr>\n",
       "  </tbody>\n",
       "</table>\n",
       "</div>"
      ],
      "text/plain": [
       "          city  driver_count   type                 date   fare        ride_id\n",
       "0  Richardfort            38  Urban  2018-02-24 08:40:38  13.93  5628545007794\n",
       "1  Richardfort            38  Urban  2018-02-13 12:46:07  14.00   910050116494\n",
       "2  Richardfort            38  Urban  2018-02-16 13:52:19  17.92   820639054416\n",
       "3  Richardfort            38  Urban  2018-02-01 20:18:28  10.26  9554935945413\n",
       "4  Richardfort            38  Urban  2018-04-17 02:26:37  23.00   720020655850"
      ]
     },
     "execution_count": 1,
     "metadata": {},
     "output_type": "execute_result"
    }
   ],
   "source": [
    "#Devin Stern\n",
    "#Homework 5\n",
    "\n",
    "\n",
    "%matplotlib inline\n",
    "# Dependencies and Setup\n",
    "import matplotlib.pyplot as plt\n",
    "import pandas as pd\n",
    "import numpy as np\n",
    "import math\n",
    "\n",
    "# File to Load (Remember to change these)\n",
    "city_data_to_load =  \"city_data.csv\"\n",
    "ride_data_to_load = \"ride_data.csv\"\n",
    "\n",
    "# Read the City and Ride Data\n",
    "city_data = pd.read_csv(city_data_to_load)\n",
    "ride_data = pd.read_csv(ride_data_to_load)\n",
    "\n",
    "# Combine the data into a single dataset\n",
    "complete_data = pd.merge(city_data, ride_data, how=\"outer\", on=[\"city\", \"city\"])\n",
    "\n",
    "# Display the data table for preview\n",
    "complete_data.head()\n"
   ]
  },
  {
   "cell_type": "code",
   "execution_count": 2,
   "metadata": {},
   "outputs": [
    {
     "data": {
      "text/plain": [
       "Index(['city', 'driver_count', 'type', 'date', 'fare', 'ride_id'], dtype='object')"
      ]
     },
     "execution_count": 2,
     "metadata": {},
     "output_type": "execute_result"
    }
   ],
   "source": [
    "complete_data.columns"
   ]
  },
  {
   "cell_type": "code",
   "execution_count": 3,
   "metadata": {},
   "outputs": [
    {
     "data": {
      "text/html": [
       "<div>\n",
       "<style scoped>\n",
       "    .dataframe tbody tr th:only-of-type {\n",
       "        vertical-align: middle;\n",
       "    }\n",
       "\n",
       "    .dataframe tbody tr th {\n",
       "        vertical-align: top;\n",
       "    }\n",
       "\n",
       "    .dataframe thead th {\n",
       "        text-align: right;\n",
       "    }\n",
       "</style>\n",
       "<table border=\"1\" class=\"dataframe\">\n",
       "  <thead>\n",
       "    <tr style=\"text-align: right;\">\n",
       "      <th></th>\n",
       "      <th>Ride Count</th>\n",
       "      <th>Driver Count</th>\n",
       "      <th>Average Fare</th>\n",
       "    </tr>\n",
       "    <tr>\n",
       "      <th>city</th>\n",
       "      <th></th>\n",
       "      <th></th>\n",
       "      <th></th>\n",
       "    </tr>\n",
       "  </thead>\n",
       "  <tbody>\n",
       "    <tr>\n",
       "      <th>Amandaburgh</th>\n",
       "      <td>18</td>\n",
       "      <td>12</td>\n",
       "      <td>24.641667</td>\n",
       "    </tr>\n",
       "    <tr>\n",
       "      <th>Barajasview</th>\n",
       "      <td>22</td>\n",
       "      <td>26</td>\n",
       "      <td>25.332273</td>\n",
       "    </tr>\n",
       "    <tr>\n",
       "      <th>Carriemouth</th>\n",
       "      <td>27</td>\n",
       "      <td>52</td>\n",
       "      <td>28.314444</td>\n",
       "    </tr>\n",
       "    <tr>\n",
       "      <th>Christopherfurt</th>\n",
       "      <td>27</td>\n",
       "      <td>41</td>\n",
       "      <td>24.501852</td>\n",
       "    </tr>\n",
       "    <tr>\n",
       "      <th>Deanville</th>\n",
       "      <td>19</td>\n",
       "      <td>49</td>\n",
       "      <td>25.842632</td>\n",
       "    </tr>\n",
       "  </tbody>\n",
       "</table>\n",
       "</div>"
      ],
      "text/plain": [
       "                 Ride Count  Driver Count  Average Fare\n",
       "city                                                   \n",
       "Amandaburgh              18            12     24.641667\n",
       "Barajasview              22            26     25.332273\n",
       "Carriemouth              27            52     28.314444\n",
       "Christopherfurt          27            41     24.501852\n",
       "Deanville                19            49     25.842632"
      ]
     },
     "execution_count": 3,
     "metadata": {},
     "output_type": "execute_result"
    }
   ],
   "source": [
    "#URBAN\n",
    "#Create series with average fare, number of drivers, and ride count by city\n",
    "urban_rd = complete_data[complete_data.type == 'Urban'].groupby('city')['ride_id'].count()\n",
    "urban_dr = complete_data[complete_data.type == 'Urban'].groupby('city')['driver_count'].mean()\n",
    "urban_fr = complete_data[complete_data.type == 'Urban'].groupby('city')['fare'].mean()\n",
    "\n",
    "#Convert the urban series to dataframes\n",
    "urban_rd_df = pd.DataFrame(urban_rd)\n",
    "urban_dr_df = pd.DataFrame(urban_dr)\n",
    "urban_fr_df = pd.DataFrame(urban_fr)\n",
    "\n",
    "\n",
    "#Merge the dataframes into one Urban \n",
    "urban_df = pd.merge(urban_rd_df, urban_dr_df, how='outer', on='city')\n",
    "urban_final_df = pd.merge(urban_df, urban_fr_df, how='outer', on='city')\n",
    "urban_final_df\n",
    "\n",
    "#Rename columns\n",
    "urban_finalformat_df = urban_final_df.rename(columns={'ride_id': 'Ride Count',\n",
    "                               'driver_count' : 'Driver Count',\n",
    "                               'fare' : 'Average Fare'})\n",
    "\n",
    "urban_finalformat_df.head()"
   ]
  },
  {
   "cell_type": "code",
   "execution_count": 4,
   "metadata": {},
   "outputs": [
    {
     "data": {
      "text/html": [
       "<div>\n",
       "<style scoped>\n",
       "    .dataframe tbody tr th:only-of-type {\n",
       "        vertical-align: middle;\n",
       "    }\n",
       "\n",
       "    .dataframe tbody tr th {\n",
       "        vertical-align: top;\n",
       "    }\n",
       "\n",
       "    .dataframe thead th {\n",
       "        text-align: right;\n",
       "    }\n",
       "</style>\n",
       "<table border=\"1\" class=\"dataframe\">\n",
       "  <thead>\n",
       "    <tr style=\"text-align: right;\">\n",
       "      <th></th>\n",
       "      <th>Ride Count</th>\n",
       "      <th>Driver Count</th>\n",
       "      <th>Average Fare</th>\n",
       "    </tr>\n",
       "    <tr>\n",
       "      <th>city</th>\n",
       "      <th></th>\n",
       "      <th></th>\n",
       "      <th></th>\n",
       "    </tr>\n",
       "  </thead>\n",
       "  <tbody>\n",
       "    <tr>\n",
       "      <th>Barronchester</th>\n",
       "      <td>16</td>\n",
       "      <td>11</td>\n",
       "      <td>36.422500</td>\n",
       "    </tr>\n",
       "    <tr>\n",
       "      <th>Bethanyland</th>\n",
       "      <td>18</td>\n",
       "      <td>22</td>\n",
       "      <td>32.956111</td>\n",
       "    </tr>\n",
       "    <tr>\n",
       "      <th>Brandonfort</th>\n",
       "      <td>19</td>\n",
       "      <td>10</td>\n",
       "      <td>35.437368</td>\n",
       "    </tr>\n",
       "    <tr>\n",
       "      <th>Colemanland</th>\n",
       "      <td>22</td>\n",
       "      <td>23</td>\n",
       "      <td>30.894545</td>\n",
       "    </tr>\n",
       "    <tr>\n",
       "      <th>Davidfurt</th>\n",
       "      <td>17</td>\n",
       "      <td>23</td>\n",
       "      <td>31.995882</td>\n",
       "    </tr>\n",
       "  </tbody>\n",
       "</table>\n",
       "</div>"
      ],
      "text/plain": [
       "               Ride Count  Driver Count  Average Fare\n",
       "city                                                 \n",
       "Barronchester          16            11     36.422500\n",
       "Bethanyland            18            22     32.956111\n",
       "Brandonfort            19            10     35.437368\n",
       "Colemanland            22            23     30.894545\n",
       "Davidfurt              17            23     31.995882"
      ]
     },
     "execution_count": 4,
     "metadata": {},
     "output_type": "execute_result"
    }
   ],
   "source": [
    "#SUBURBIA\n",
    "\n",
    "#Create series with average fare, number of drivers, and ride count by city\n",
    "suburb_rd = complete_data[complete_data.type == 'Suburban'].groupby('city')['ride_id'].count()\n",
    "suburb_dr = complete_data[complete_data.type == 'Suburban'].groupby('city')['driver_count'].mean()\n",
    "suburb_fr = complete_data[complete_data.type == 'Suburban'].groupby('city')['fare'].mean()\n",
    "\n",
    "#Convert the suburban series to dataframes\n",
    "suburb_rd_df = pd.DataFrame(suburb_rd)\n",
    "suburb_dr_df = pd.DataFrame(suburb_dr)\n",
    "suburb_fr_df = pd.DataFrame(suburb_fr)\n",
    "\n",
    "\n",
    "#Merge the dataframes into one Suburban df\n",
    "suburb_df = pd.merge(suburb_rd_df, suburb_dr_df, how='outer', on='city')\n",
    "suburb_final_df = pd.merge(suburb_df, suburb_fr_df, how='outer', on='city')\n",
    "suburb_final_df\n",
    "\n",
    "#Rename columns\n",
    "suburb_finalformat_df = suburb_final_df.rename(columns={'ride_id': 'Ride Count',\n",
    "                               'driver_count' : 'Driver Count',\n",
    "                               'fare' : 'Average Fare'})\n",
    "\n",
    "suburb_finalformat_df.head()\n",
    "\n",
    "\n"
   ]
  },
  {
   "cell_type": "code",
   "execution_count": 5,
   "metadata": {},
   "outputs": [
    {
     "data": {
      "text/html": [
       "<div>\n",
       "<style scoped>\n",
       "    .dataframe tbody tr th:only-of-type {\n",
       "        vertical-align: middle;\n",
       "    }\n",
       "\n",
       "    .dataframe tbody tr th {\n",
       "        vertical-align: top;\n",
       "    }\n",
       "\n",
       "    .dataframe thead th {\n",
       "        text-align: right;\n",
       "    }\n",
       "</style>\n",
       "<table border=\"1\" class=\"dataframe\">\n",
       "  <thead>\n",
       "    <tr style=\"text-align: right;\">\n",
       "      <th></th>\n",
       "      <th>Ride Count</th>\n",
       "      <th>Driver Count</th>\n",
       "      <th>Average Fare</th>\n",
       "    </tr>\n",
       "    <tr>\n",
       "      <th>city</th>\n",
       "      <th></th>\n",
       "      <th></th>\n",
       "      <th></th>\n",
       "    </tr>\n",
       "  </thead>\n",
       "  <tbody>\n",
       "    <tr>\n",
       "      <th>Bradshawfurt</th>\n",
       "      <td>10</td>\n",
       "      <td>7</td>\n",
       "      <td>40.064000</td>\n",
       "    </tr>\n",
       "    <tr>\n",
       "      <th>Garzaport</th>\n",
       "      <td>3</td>\n",
       "      <td>7</td>\n",
       "      <td>24.123333</td>\n",
       "    </tr>\n",
       "    <tr>\n",
       "      <th>Harringtonfort</th>\n",
       "      <td>6</td>\n",
       "      <td>4</td>\n",
       "      <td>33.470000</td>\n",
       "    </tr>\n",
       "    <tr>\n",
       "      <th>Jessicaport</th>\n",
       "      <td>6</td>\n",
       "      <td>1</td>\n",
       "      <td>36.013333</td>\n",
       "    </tr>\n",
       "    <tr>\n",
       "      <th>Lake Jamie</th>\n",
       "      <td>6</td>\n",
       "      <td>4</td>\n",
       "      <td>34.358333</td>\n",
       "    </tr>\n",
       "  </tbody>\n",
       "</table>\n",
       "</div>"
      ],
      "text/plain": [
       "                Ride Count  Driver Count  Average Fare\n",
       "city                                                  \n",
       "Bradshawfurt            10             7     40.064000\n",
       "Garzaport                3             7     24.123333\n",
       "Harringtonfort           6             4     33.470000\n",
       "Jessicaport              6             1     36.013333\n",
       "Lake Jamie               6             4     34.358333"
      ]
     },
     "execution_count": 5,
     "metadata": {},
     "output_type": "execute_result"
    }
   ],
   "source": [
    "#COUNTRY FOLKS\n",
    "\n",
    "#Create series with average fare, number of drivers, and ride count by town\n",
    "rural_rd = complete_data[complete_data.type == 'Rural'].groupby('city')['ride_id'].count()\n",
    "rural_dr = complete_data[complete_data.type == 'Rural'].groupby('city')['driver_count'].mean()\n",
    "rural_fr = complete_data[complete_data.type == 'Rural'].groupby('city')['fare'].mean()\n",
    "\n",
    "#Convert the rural series to dataframes\n",
    "rural_rd_df = pd.DataFrame(rural_rd)\n",
    "rural_dr_df = pd.DataFrame(rural_dr)\n",
    "rural_fr_df = pd.DataFrame(rural_fr)\n",
    "\n",
    "\n",
    "#Merge the dataframes into one rural dataframe\n",
    "rural_df = pd.merge(rural_rd_df, rural_dr_df, how='outer', on='city')\n",
    "rural_final_df = pd.merge(rural_df, rural_fr_df, how='outer', on='city')\n",
    "rural_final_df\n",
    "\n",
    "#Rename columns\n",
    "rural_finalformat_df = rural_final_df.rename(columns={'ride_id': 'Ride Count',\n",
    "                               'driver_count' : 'Driver Count',\n",
    "                               'fare' : 'Average Fare'})\n",
    "rural_finalformat_df.head()"
   ]
  },
  {
   "cell_type": "markdown",
   "metadata": {},
   "source": [
    "## Bubble Plot of Ride Sharing Data"
   ]
  },
  {
   "cell_type": "markdown",
   "metadata": {},
   "source": [
    "## Total Fares by City Type"
   ]
  },
  {
   "cell_type": "code",
   "execution_count": 6,
   "metadata": {},
   "outputs": [
    {
     "data": {
      "image/png": "[encoded data removed]",
      "text/plain": [
       "<Figure size 432x288 with 1 Axes>"
      ]
     },
     "metadata": {
      "needs_background": "light"
     },
     "output_type": "display_data"
    }
   ],
   "source": [
    "#Set up the general layout of the plot\n",
    "plt.title (\"Pyber Ride Sharing Data (2016)\")\n",
    "plt.xlabel(\"Total Number of Rides (Per City)\")\n",
    "plt.ylabel(\"Average Fare ($)\")\n",
    "\n",
    "#Set handle for each set of data\n",
    "\n",
    "Urban = plt.scatter(urban_rd, urban_fr, s=5*urban_dr,marker='o', color=\"salmon\", alpha=0.7, label = \"Urban\")\n",
    "Suburban = plt.scatter(suburb_rd, suburb_fr,s=5*suburb_dr, marker='o', color=\"aquamarine\", alpha=0.7, label = \"Suburban\")\n",
    "Rural = plt.scatter(rural_rd, rural_fr, s=5*rural_dr, marker='o', color =\"gold\", alpha=0.7,label= \"Rural\")\n",
    "\n",
    "\n",
    "#Create legend\n",
    "plt.legend(handles=[Urban, Suburban, Rural], loc=\"best\")\n",
    "\n",
    "#Add a note\n",
    "plt.text(41,30, 'Circle size correlates with driver count per city.')\n",
    "\n",
    "\n",
    "# Save an image of our chart and print the final product to the screen\n",
    "plt.savefig(\"../Homework5/PyberScatter.png\")\n",
    "\n"
   ]
  },
  {
   "cell_type": "code",
   "execution_count": 7,
   "metadata": {},
   "outputs": [],
   "source": [
    "#Total Fares by City Type\n",
    "fares_by_type = complete_data.groupby('type')['ride_id'].count()\n"
   ]
  },
  {
   "cell_type": "code",
   "execution_count": 8,
   "metadata": {},
   "outputs": [
    {
     "data": {
      "image/png": "[encoded data removed]",
      "text/plain": [
       "<Figure size 432x288 with 1 Axes>"
      ]
     },
     "metadata": {},
     "output_type": "display_data"
    }
   ],
   "source": [
    "#Create Labels for each section of the pie chart\n",
    "labels = [\"Rural\", \"Suburban\", \"Urban\"]\n",
    "\n",
    "#Input values for each label\n",
    "total_fares = [4327.93, 19356.33, 39854.38]\n",
    "\n",
    "#Create Colors for each label\n",
    "colors = [\"gold\", \"aquamarine\", \"salmon\"]\n",
    "\n",
    "#Add an explosion\n",
    "explode = [0,0,0.1]\n",
    "\n",
    "#Create pie chart based on values above\n",
    "plt.pie(total_fares, labels=labels, colors=colors, explode=explode,\n",
    "        autopct = \"%1.1f%%\", startangle=140)\n",
    "\n",
    "#Add a title\n",
    "plt.title(\"% of Total Fares by City Type\")\n",
    "\n",
    "\n",
    "# Create axes which are equal so we have a perfect circle\n",
    "plt.axis(\"equal\")\n",
    "\n",
    "# Save an image of our chart and print the final product to the screen\n",
    "plt.savefig(\"../Homework5/PyberPie.png\")"
   ]
  },
  {
   "cell_type": "markdown",
   "metadata": {},
   "source": [
    "## Total Rides by City Type"
   ]
  },
  {
   "cell_type": "code",
   "execution_count": 9,
   "metadata": {},
   "outputs": [
    {
     "data": {
      "text/plain": [
       "type\n",
       "Rural        125\n",
       "Suburban     625\n",
       "Urban       1625\n",
       "Name: ride_id, dtype: int64"
      ]
     },
     "execution_count": 9,
     "metadata": {},
     "output_type": "execute_result"
    }
   ],
   "source": [
    "# Total Rides by City Type\n",
    "rides_by_type = complete_data.groupby('type')['ride_id'].count()\n",
    "rides_by_type"
   ]
  },
  {
   "cell_type": "code",
   "execution_count": 10,
   "metadata": {},
   "outputs": [
    {
     "data": {
      "image/png": "[encoded data removed]",
      "text/plain": [
       "<Figure size 432x288 with 1 Axes>"
      ]
     },
     "metadata": {},
     "output_type": "display_data"
    }
   ],
   "source": [
    "#Create Labels for each section of the pie chart\n",
    "labels = [\"Rural\", \"Suburban\", \"Urban\"]\n",
    "\n",
    "#Input values for each label\n",
    "total_rides = [125, 625, 1625]\n",
    "\n",
    "#Create Colors for each label\n",
    "colors = [\"gold\", \"aquamarine\", \"salmon\"]\n",
    "\n",
    "#Add an explosion\n",
    "explode = [0,0,0.1]\n",
    "\n",
    "#Create pie chart based on values above\n",
    "plt.pie(total_rides, labels=labels, colors=colors, explode=explode,\n",
    "        autopct = \"%1.1f%%\", startangle=140)\n",
    "\n",
    "#Add a title\n",
    "plt.title(\"% of Total Rides by City Type\")\n",
    "\n",
    "\n",
    "# Create axes which are equal so we have a perfect circle\n",
    "plt.axis(\"equal\")\n",
    "\n",
    "# Save an image of our chart and print the final product to the screen\n",
    "plt.savefig(\"../Homework5/PyberPieRides.png\")"
   ]
  },
  {
   "cell_type": "markdown",
   "metadata": {},
   "source": [
    "## Total Drivers by City Type"
   ]
  },
  {
   "cell_type": "code",
   "execution_count": 11,
   "metadata": {},
   "outputs": [
    {
     "data": {
      "text/plain": [
       "array([2405], dtype=int64)"
      ]
     },
     "execution_count": 11,
     "metadata": {},
     "output_type": "execute_result"
    }
   ],
   "source": [
    "# Total Urban Driver Count\n",
    "urban_dr = complete_data[complete_data.type == 'Urban'].groupby('city')['driver_count'].unique()\n",
    "urban_dr.sum()"
   ]
  },
  {
   "cell_type": "code",
   "execution_count": 12,
   "metadata": {},
   "outputs": [
    {
     "data": {
      "text/plain": [
       "array([490], dtype=int64)"
      ]
     },
     "execution_count": 12,
     "metadata": {},
     "output_type": "execute_result"
    }
   ],
   "source": [
    "#Total Suburban Driver Count\n",
    "suburb_dr = complete_data[complete_data.type == 'Suburban'].groupby('city')['driver_count'].unique()\n",
    "suburb_dr.sum()"
   ]
  },
  {
   "cell_type": "code",
   "execution_count": 13,
   "metadata": {},
   "outputs": [
    {
     "data": {
      "text/plain": [
       "array([78], dtype=int64)"
      ]
     },
     "execution_count": 13,
     "metadata": {},
     "output_type": "execute_result"
    }
   ],
   "source": [
    "#Total Rural Driver Count\n",
    "rural_dr = complete_data[complete_data.type == 'Rural'].groupby('city')['driver_count'].unique()\n",
    "rural_dr.sum()"
   ]
  },
  {
   "cell_type": "code",
   "execution_count": 14,
   "metadata": {},
   "outputs": [
    {
     "data": {
      "image/png": "[encoded data removed]",
      "text/plain": [
       "<Figure size 432x288 with 1 Axes>"
      ]
     },
     "metadata": {},
     "output_type": "display_data"
    }
   ],
   "source": [
    "#Create Labels for each section of the pie chart\n",
    "labels = [\"Rural\", \"Suburban\", \"Urban\"]\n",
    "\n",
    "#Input values for each label\n",
    "total_drivers = [78, 490, 2405]\n",
    "\n",
    "#Create Colors for each label\n",
    "colors = [\"gold\", \"aquamarine\", \"salmon\"]\n",
    "\n",
    "#Add an explosion\n",
    "explode = [0,0,0.1]\n",
    "\n",
    "#Create pie chart based on values above\n",
    "plt.pie(total_drivers, labels=labels, colors=colors, explode=explode,\n",
    "        autopct = \"%1.1f%%\", startangle=140)\n",
    "\n",
    "#Add a title\n",
    "plt.title(\"% of Total Drivers by City Type\")\n",
    "\n",
    "\n",
    "# Create axes which are equal so we have a perfect circle\n",
    "plt.axis(\"equal\")\n",
    "\n",
    "# Save an image of our chart and print the final product to the screen\n",
    "plt.savefig(\"../Homework5/PyberPieDrivers.png\")"
   ]
  },
  {
   "cell_type": "code",
   "execution_count": null,
   "metadata": {},
   "outputs": [],
   "source": []
  },
  {
   "cell_type": "code",
   "execution_count": null,
   "metadata": {},
   "outputs": [],
   "source": []
  }
 ],
 "metadata": {
  "anaconda-cloud": {},
  "kernelspec": {
   "display_name": "Python [conda env:PythonData]",
   "language": "python",
   "name": "conda-env-PythonData-py"
  },
  "language_info": {
   "codemirror_mode": {
    "name": "ipython",
    "version": 3
   },
   "file_extension": ".py",
   "mimetype": "text/x-python",
   "name": "python",
   "nbconvert_exporter": "python",
   "pygments_lexer": "ipython3",
   "version": "3.6.7"
  }
 },
 "nbformat": 4,
 "nbformat_minor": 2
}
